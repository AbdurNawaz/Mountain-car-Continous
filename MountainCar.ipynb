{
  "nbformat": 4,
  "nbformat_minor": 0,
  "metadata": {
    "colab": {
      "name": "MountainCar",
      "provenance": [],
      "include_colab_link": true
    },
    "kernelspec": {
      "name": "python3",
      "display_name": "Python 3"
    }
  },
  "cells": [
    {
      "cell_type": "markdown",
      "metadata": {
        "id": "view-in-github",
        "colab_type": "text"
      },
      "source": [
        "<a href=\"https://colab.research.google.com/github/AbdurNawaz/Mountain-car-Continous/blob/master/MountainCar.ipynb\" target=\"_parent\"><img src=\"https://colab.research.google.com/assets/colab-badge.svg\" alt=\"Open In Colab\"/></a>"
      ]
    },
    {
      "cell_type": "code",
      "metadata": {
        "id": "glkR2zVSFMQp",
        "colab_type": "code",
        "colab": {}
      },
      "source": [
        "import gym\n",
        "import time\n",
        "import math\n",
        "import numpy as np\n",
        "from collections import deque\n",
        "import matplotlib.pyplot as plt\n",
        "\n",
        "import torch\n",
        "import torch.nn as nn\n",
        "import torch.nn.functional as F\n",
        "from torch.autograd import Variable"
      ],
      "execution_count": 0,
      "outputs": []
    },
    {
      "cell_type": "code",
      "metadata": {
        "id": "hNIirxieFuSy",
        "colab_type": "code",
        "colab": {
          "base_uri": "https://localhost:8080/",
          "height": 87
        },
        "outputId": "3866fa2a-4ee2-431b-ddf6-16d8677fd09b"
      },
      "source": [
        "device = torch.device('cuda:0' if torch.cuda.is_available() else 'cpu')\n",
        "\n",
        "env = gym.make('MountainCarContinuous-v0')\n",
        "env.seed(101)\n",
        "np.random.seed(101)\n",
        "\n",
        "print(env.observation_space)\n",
        "print(env.action_space)\n",
        "print(env.observation_space.shape)\n",
        "print(env.action_space.shape)"
      ],
      "execution_count": 31,
      "outputs": [
        {
          "output_type": "stream",
          "text": [
            "Box(2,)\n",
            "Box(1,)\n",
            "(2,)\n",
            "(1,)\n"
          ],
          "name": "stdout"
        }
      ]
    },
    {
      "cell_type": "code",
      "metadata": {
        "id": "bpnynIJYGUqb",
        "colab_type": "code",
        "colab": {}
      },
      "source": [
        "class Agent(nn.Module):\n",
        "\n",
        "  def __init__(self, env, h_size=16):\n",
        "    super(Agent, self).__init__()\n",
        "    self.env = env\n",
        "\n",
        "    self.s_size = env.observation_space.shape[0]\n",
        "    self.h_size = h_size\n",
        "    self.a_size = env.action_space.shape[0]\n",
        "\n",
        "    self.fc1 = nn.Linear(self.s_size, self.h_size)\n",
        "    self.fc2 = nn.Linear(self.h_size, self.a_size)\n",
        "  \n",
        "  def set_weights(self, weights):\n",
        "    s_size = self.s_size\n",
        "    h_size = self.h_size\n",
        "    a_size = self.a_size\n",
        "\n",
        "    fc1_end = (s_size*h_size) + h_size\n",
        "    fc1_W = torch.from_numpy(weights[:s_size*h_size].reshape(s_size, h_size))\n",
        "    fc1_b = torch.from_numpy(weights[s_size*h_size:fc1_end])\n",
        "    fc2_W = torch.from_numpy(weights[fc1_end:fc1_end+(h_size*a_size)].reshape(h_size, a_size))\n",
        "    fc2_b = torch.from_numpy(weights[fc1_end+(h_size*a_size):])\n",
        "\n",
        "    self.fc1.weight.data.copy_(fc1_W.view_as(self.fc1.weight.data))\n",
        "    self.fc1.bias.data.copy_(fc1_b.view_as(self.fc1.bias.data))\n",
        "    self.fc2.weight.data.copy_(fc2_W.view_as(self.fc2.weight.data))\n",
        "    self.fc2.bias.data.copy_(fc2_b.view_as(self.fc2.bias.data))\n",
        "\n",
        "  def get_weights_dim(self):\n",
        "    return (self.s_size+1)*self.h_size + (self.h_size+1)*self.a_size\n",
        "\n",
        "  def forward(self, x):\n",
        "    x = F.relu(self.fc1(x))\n",
        "    x = F.tanh(self.fc2(x))\n",
        "    return x.cpu().data\n",
        "\n",
        "  def evaluate(self, weights, gamma=1.0, max_t=5000):\n",
        "    self.set_weights(weights)\n",
        "    episode_return = 0.0\n",
        "    state = self.env.reset()\n",
        "    for t in range(max_t):\n",
        "      state = torch.from_numpy(state).float().to(device)\n",
        "      action = self.forward(state)\n",
        "      state, reward, done, info = self.env.step(action)\n",
        "      episode_return += reward*math.pow(gamma, t)\n",
        "      if done:\n",
        "        break\n",
        "    return episode_return\n",
        "\n",
        "agent = Agent(env).to(device)"
      ],
      "execution_count": 0,
      "outputs": []
    },
    {
      "cell_type": "code",
      "metadata": {
        "id": "XuTRcoromoJC",
        "colab_type": "code",
        "colab": {
          "base_uri": "https://localhost:8080/",
          "height": 652
        },
        "outputId": "829938f1-3a2f-4e1d-c0ce-52eecccf94c7"
      },
      "source": [
        "def cem(n_iterations=500, max_t=1000, gamma=1.0, print_every=10, pop_size=50, elite_frac=0.2, sigma=0.5):\n",
        "\n",
        "  n_elite = int(pop_size*elite_frac)\n",
        "\n",
        "  scores_deque = deque(maxlen=100)\n",
        "  scores = []\n",
        "  best_weight = sigma*np.random.randn(agent.get_weights_dim())\n",
        "\n",
        "  for i_iteration in range(1, n_iterations+1):\n",
        "    weights_pop = [best_weight + (sigma*np.random.randn(agent.get_weights_dim())) for i in range(pop_size)]\n",
        "    rewards = np.array([agent.evaluate(weights, gamma, max_t) for weights in weights_pop])  \n",
        "\n",
        "    elite_indxs = rewards.argsort()[-n_elite:]\n",
        "    elite_weights = [weights_pop[i] for i in elite_indxs]\n",
        "    best_weight = np.array(elite_weights).mean(axis=0)\n",
        "\n",
        "    reward = agent.evaluate(best_weight, gamma=1.0)\n",
        "    scores_deque.append(reward)\n",
        "    scores.append(reward)\n",
        "\n",
        "    torch.save(agent.state_dict(), 'checkpoint.pth')\n",
        "\n",
        "    if i_iteration % print_every == 0:\n",
        "      print('Episode {}\\tAverage Score: {:.2f}'.format(i_iteration, np.mean(scores_deque)))\n",
        "\n",
        "    if np.mean(scores_deque) >= 90.0:\n",
        "      print('\\nEnvironment solved in {:d} iterations! \\tAverage Sore: {:.2f}'.format((i_iteration-100), np.mean(scores_deque)))\n",
        "      break\n",
        "  \n",
        "  return scores \n",
        "\n",
        "scores = cem()\n",
        "\n",
        "fig = plt.figure()\n",
        "ax = fig.add_subplot(111)\n",
        "plt.plot(np.arange(1, len(scores)+1), scores)\n",
        "plt.ylabel('Score')\n",
        "plt.xlabel('Episode #')\n",
        "plt.show()"
      ],
      "execution_count": 38,
      "outputs": [
        {
          "output_type": "stream",
          "text": [
            "/usr/local/lib/python3.6/dist-packages/torch/nn/functional.py:1340: UserWarning: nn.functional.tanh is deprecated. Use torch.tanh instead.\n",
            "  warnings.warn(\"nn.functional.tanh is deprecated. Use torch.tanh instead.\")\n"
          ],
          "name": "stderr"
        },
        {
          "output_type": "stream",
          "text": [
            "Episode 10\tAverage Score: -3.13\n",
            "Episode 20\tAverage Score: -4.55\n",
            "Episode 30\tAverage Score: -4.06\n",
            "Episode 40\tAverage Score: -3.89\n",
            "Episode 50\tAverage Score: -5.16\n",
            "Episode 60\tAverage Score: -4.60\n",
            "Episode 70\tAverage Score: -4.19\n",
            "Episode 80\tAverage Score: 1.91\n",
            "Episode 90\tAverage Score: 12.07\n",
            "Episode 100\tAverage Score: 20.31\n",
            "Episode 110\tAverage Score: 30.08\n",
            "Episode 120\tAverage Score: 40.07\n",
            "Episode 130\tAverage Score: 49.86\n",
            "Episode 140\tAverage Score: 59.58\n",
            "Episode 150\tAverage Score: 70.01\n",
            "Episode 160\tAverage Score: 79.57\n",
            "Episode 170\tAverage Score: 89.23\n",
            "\n",
            "Environment solved in 71 iterations! \tAverage Sore: 90.17\n"
          ],
          "name": "stdout"
        },
        {
          "output_type": "display_data",
          "data": {
            "image/png": "[encoded data removed]",
            "text/plain": [
              "<Figure size 432x288 with 1 Axes>"
            ]
          },
          "metadata": {
            "tags": []
          }
        }
      ]
    },
    {
      "cell_type": "code",
      "metadata": {
        "id": "_AB7fAS8poh2",
        "colab_type": "code",
        "colab": {}
      },
      "source": [
        ""
      ],
      "execution_count": 0,
      "outputs": []
    }
  ]
}