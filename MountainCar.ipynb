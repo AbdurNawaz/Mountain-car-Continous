{
  "nbformat": 4,
  "nbformat_minor": 0,
  "metadata": {
    "colab": {
      "name": "MountainCar",
      "provenance": [],
      "include_colab_link": true
    },
    "kernelspec": {
      "name": "python3",
      "display_name": "Python 3"
    }
  },
  "cells": [
    {
      "cell_type": "markdown",
      "metadata": {
        "id": "view-in-github",
        "colab_type": "text"
      },
      "source": [
        "<a href=\"https://colab.research.google.com/github/AbdurNawaz/Mountain-car-Continous/blob/master/MountainCar.ipynb\" target=\"_parent\"><img src=\"https://colab.research.google.com/assets/colab-badge.svg\" alt=\"Open In Colab\"/></a>"
      ]
    },
    {
      "cell_type": "code",
      "metadata": {
        "id": "glkR2zVSFMQp",
        "colab_type": "code",
        "colab": {}
      },
      "source": [
        "import gym\n",
        "import time\n",
        "import numpy as np\n",
        "from collections import deque\n",
        "import matplotlib.pyplot as plt\n",
        "\n",
        "import torch\n",
        "import torch.nn as nn\n",
        "import torch.functional as F\n",
        "from torch.autograd import Variable"
      ],
      "execution_count": 0,
      "outputs": []
    },
    {
      "cell_type": "code",
      "metadata": {
        "id": "hNIirxieFuSy",
        "colab_type": "code",
        "colab": {
          "base_uri": "https://localhost:8080/",
          "height": 87
        },
        "outputId": "dc592019-457c-49cd-a421-0827271dc6d3"
      },
      "source": [
        "device = torch.device('cuda:0' if torch.cuda.is_available() else 'cpu')\n",
        "\n",
        "env = gym.make('MountainCarContinuous-v0')\n",
        "env.seed(101)\n",
        "np.random.seed(101)\n",
        "\n",
        "print(env.observation_space)\n",
        "print(env.action_space)\n",
        "print(env.observation_space.shape)\n",
        "print(env.action_space.shape)"
      ],
      "execution_count": 7,
      "outputs": [
        {
          "output_type": "stream",
          "text": [
            "Box(2,)\n",
            "Box(1,)\n",
            "(2,)\n",
            "(1,)\n"
          ],
          "name": "stdout"
        }
      ]
    },
    {
      "cell_type": "code",
      "metadata": {
        "id": "bpnynIJYGUqb",
        "colab_type": "code",
        "colab": {}
      },
      "source": [
        "class Agent(nn.Module):\n",
        "\n",
        "  def __init__(self, env, h_size=16):\n",
        "    super(Agent, self).__init__()\n",
        "    self.env = env\n",
        "\n",
        "    self.s_size = env.observation_space.shape[0]\n",
        "    self.h_size = h_size\n",
        "    self.a_size = env.action_space.shape[0]\n",
        "\n",
        "    self.fc1 = nn.Linear(self.s_size, self.h_size)\n",
        "    self.fc2 = nn.Linear(self.h_size, self.a_size)\n",
        "  \n",
        "  def weights(self, weights):\n",
        "    s_size = self.s_size\n",
        "    h_size = self.h_size\n",
        "    a_size = self.a_size\n",
        "\n",
        "    fc1_end = (s_size*h_size) + h_size\n",
        "    fc1_W = torch.from_numpy(weights[:s_size*h_size].reshape(s_size, h_size))\n",
        "    fc1_b = torch.from_numpy(weights[s_size*h_size:fc1_end])\n",
        "    fc2_W = torch.from_numpy(weights[fc1_end:fc1_end+(h_size*a_size)].reshape(h_size, a_size))\n",
        "    fc2_b = torch.from_numpy(weights[fc1_end+(h_size*a_size):])\n",
        "\n",
        "    self.fc1.weights.data.copy_(fc1_W.view_as(self.fc1.weight.data))\n",
        "    self.fc1.bias.data.copy_(fc1_b.view_as(self.fcc1.bias.data))\n",
        "    self.fc2.weights.data.copy_(fc2_W.view_as(self.fc2.weight.data))\n",
        "    self.fc2.bias.data.copy_(fc2_b.view_as(self.fc2.bias.data))\n",
        "\n",
        "  def get_weights_dim(self):\n",
        "    return (self.s_size+1)*self.h_size + (self.h_size+1)*self.a_size\n",
        "\n",
        "  def forward(self, x):\n",
        "    x = F.relu(self.fc1(x))\n",
        "    x = F.tanh(self.fc2(x))\n",
        "    return x.cpu().data\n",
        "\n",
        "  def evaluate(self, weights, gamma=1.0, max_t=5000):\n",
        "    self.set_weights(weights)\n",
        "    episode_return = 0.0\n",
        "    state = env.reset()\n",
        "    for t in range(max_t):\n",
        "      state = torch.from_numpy(state).float().to(device)\n",
        "      action = self.forward(state)\n",
        "      state, reward, done, info = self.env.step(action)\n",
        "      episode_return += reward*(gamma**t)\n",
        "      if done:\n",
        "        break\n",
        "    return episode_return"
      ],
      "execution_count": 0,
      "outputs": []
    },
    {
      "cell_type": "code",
      "metadata": {
        "id": "XuTRcoromoJC",
        "colab_type": "code",
        "colab": {}
      },
      "source": [
        ""
      ],
      "execution_count": 0,
      "outputs": []
    }
  ]
}